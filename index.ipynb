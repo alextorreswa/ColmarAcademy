{
  "cells": [
    {
      "cell_type": "markdown",
      "metadata": {
        "id": "wtlxR8IBAx1M"
      },
      "source": [
        "# Python Functions Review"
      ]
    },
    {
      "cell_type": "markdown",
      "metadata": {
        "id": "b6e1EZlqAx1T"
      },
      "source": [
        "### Introduction"
      ]
    },
    {
      "cell_type": "markdown",
      "metadata": {
        "id": "sw76pge2Ax1U"
      },
      "source": [
        "In this lesson, we'll review working with Python APIs and functions.  Let's get started."
      ]
    },
    {
      "cell_type": "markdown",
      "metadata": {
        "id": "_VOEzrIlAx1U"
      },
      "source": [
        "### Getting our Data"
      ]
    },
    {
      "cell_type": "markdown",
      "metadata": {
        "id": "hino1zdoAx1V"
      },
      "source": [
        "In this lesson, we'll work with the [Econdb api](https://www.econdb.com/api/series/?page=1).  As you can see on the page, we can make a request to the api with something like the following."
      ]
    },
    {
      "cell_type": "code",
      "execution_count": null,
      "metadata": {
        "id": "ODkvp7_RAx1V"
      },
      "outputs": [],
      "source": [
        "# !pip3 install requests"
      ]
    },
    {
      "cell_type": "code",
      "execution_count": 2,
      "metadata": {
        "id": "JpbPMxqXAx1W"
      },
      "outputs": [],
      "source": [
        "import requests\n",
        "\n",
        "url = \"https://www.econdb.com/api/series/CPIUS/?format=json\"\n",
        "response = requests.get(url)\n",
        "json_values = response.json()"
      ]
    },
    {
      "cell_type": "markdown",
      "metadata": {
        "id": "0395G60cAx1X"
      },
      "source": [
        "### Working with our data"
      ]
    },
    {
      "cell_type": "markdown",
      "metadata": {
        "id": "eFooIGUfAx1Y"
      },
      "source": [
        "Begin by identifying all of the **keys** in `json_values`."
      ]
    },
    {
      "cell_type": "code",
      "execution_count": 3,
      "metadata": {
        "id": "cpeV4FOkAx1Y",
        "outputId": "1e1b846a-a5ac-4c88-bd49-079002104276",
        "colab": {
          "base_uri": "https://localhost:8080/"
        }
      },
      "outputs": [
        {
          "output_type": "execute_result",
          "data": {
            "text/plain": [
              "dict_keys(['ticker', 'description', 'geography', 'frequency', 'dataset', 'units', 'additional_metadata', 'data'])"
            ]
          },
          "metadata": {},
          "execution_count": 3
        }
      ],
      "source": [
        "json_values.keys()\n",
        "\n",
        "# dict_keys(['ticker', 'description', 'geography', 'frequency', 'dataset', 'units', 'additional_metadata', 'data'])"
      ]
    },
    {
      "cell_type": "markdown",
      "metadata": {
        "id": "vb7xWlJQAx1a"
      },
      "source": [
        "And also identify all of the keys in under the `data` attribute."
      ]
    },
    {
      "cell_type": "code",
      "execution_count": 8,
      "metadata": {
        "id": "lDhcgbirAx1a",
        "outputId": "b94adede-d105-48ae-9a96-7db2c418fec0",
        "colab": {
          "base_uri": "https://localhost:8080/"
        }
      },
      "outputs": [
        {
          "output_type": "execute_result",
          "data": {
            "text/plain": [
              "dict_keys(['values', 'dates', 'status'])"
            ]
          },
          "metadata": {},
          "execution_count": 8
        }
      ],
      "source": [
        "json_values['data'].keys()\n",
        "\n",
        "# dict_keys(['values', 'dates', 'status'])"
      ]
    },
    {
      "cell_type": "markdown",
      "metadata": {
        "id": "VhbfyyZpAx1b"
      },
      "source": [
        "Ok, so we can see that we have keys of `values` and `dates`."
      ]
    },
    {
      "cell_type": "markdown",
      "metadata": {
        "id": "4F-UW1a6Ax1b"
      },
      "source": [
        "So now create a list of the most recent 300 dates -- from earliest to latest."
      ]
    },
    {
      "cell_type": "code",
      "execution_count": 34,
      "metadata": {
        "id": "QuMf4bI3Ax1c",
        "outputId": "ac7bbf66-e53c-45cc-b350-6ed2ebfa1ef5",
        "colab": {
          "base_uri": "https://localhost:8080/"
        }
      },
      "outputs": [
        {
          "output_type": "execute_result",
          "data": {
            "text/plain": [
              "['1997-08-01', '1997-09-01', '1997-10-01', '1997-11-01', '1997-12-01']"
            ]
          },
          "metadata": {},
          "execution_count": 34
        }
      ],
      "source": [
        "recent_dates = json_values['data']['dates'][-301:]\n",
        "recent_dates[:5]\n",
        "\n",
        "# ['1997-08-01', '1997-09-01', '1997-10-01', '1997-11-01', '1997-12-01']"
      ]
    },
    {
      "cell_type": "markdown",
      "metadata": {
        "id": "M9zn3zHSAx1c"
      },
      "source": [
        "And create a list of the corresponding consumer price index values."
      ]
    },
    {
      "cell_type": "code",
      "execution_count": 35,
      "metadata": {
        "id": "NMY9YglWAx1d",
        "outputId": "197367d3-eaba-4da9-d694-5cf6049137f2",
        "colab": {
          "base_uri": "https://localhost:8080/"
        }
      },
      "outputs": [
        {
          "output_type": "execute_result",
          "data": {
            "text/plain": [
              "[160.8, 161.2, 161.5, 161.7, 161.8]"
            ]
          },
          "metadata": {},
          "execution_count": 35
        }
      ],
      "source": [
        "recent_values = json_values['data']['values'][-301:]\n",
        "recent_values[:5]"
      ]
    },
    {
      "cell_type": "markdown",
      "metadata": {
        "id": "vsA4HMdZAx1d"
      },
      "source": [
        "Now create a list of tuples called `cpis` that uses the `recent_dates` and `recent_values` list to return a list of tuples consisting of the date and the corresponding consumer price index."
      ]
    },
    {
      "cell_type": "code",
      "execution_count": 36,
      "metadata": {
        "id": "-Mus8MAmAx1e",
        "outputId": "54ed42f5-b92a-4f65-ac62-ca79d5b13f37",
        "colab": {
          "base_uri": "https://localhost:8080/"
        }
      },
      "outputs": [
        {
          "output_type": "execute_result",
          "data": {
            "text/plain": [
              "(('1997-08-01', 160.8),\n",
              " ('1997-09-01', 161.2),\n",
              " ('1997-10-01', 161.5),\n",
              " ('1997-11-01', 161.7),\n",
              " ('1997-12-01', 161.8))"
            ]
          },
          "metadata": {},
          "execution_count": 36
        }
      ],
      "source": [
        "\n",
        "cpis = tuple(zip(recent_dates, recent_values))\n",
        "\n",
        "cpis[:5]\n",
        "\n",
        "# [('1997-08-01', 160.8),\n",
        "#  ('1997-09-01', 161.2),\n",
        "#  ('1997-10-01', 161.5),\n",
        "#  ('1997-11-01', 161.7),\n",
        "#  ('1997-12-01', 161.8)]"
      ]
    },
    {
      "cell_type": "markdown",
      "metadata": {
        "id": "ehcfzgCJAx1e"
      },
      "source": [
        "And then, turn this list of tuples into a list of dictionaries with keys of date and price."
      ]
    },
    {
      "cell_type": "markdown",
      "metadata": {
        "id": "a6MBbotSAx1f"
      },
      "source": [
        "> If you are unable to complete the below step, you can skip the problem and proceed to the next section."
      ]
    },
    {
      "cell_type": "code",
      "execution_count": 37,
      "metadata": {
        "id": "DC6cB3-6Ax1f"
      },
      "outputs": [],
      "source": [
        "price_json = [{'date':j, 'price': k} for j, k in cpis]"
      ]
    },
    {
      "cell_type": "code",
      "execution_count": 38,
      "metadata": {
        "id": "tcBtxJfoAx1f",
        "outputId": "96d29a30-5179-4ed2-8527-e8026946ec21",
        "colab": {
          "base_uri": "https://localhost:8080/"
        }
      },
      "outputs": [
        {
          "output_type": "execute_result",
          "data": {
            "text/plain": [
              "[{'date': '1997-08-01', 'price': 160.8},\n",
              " {'date': '1997-09-01', 'price': 161.2},\n",
              " {'date': '1997-10-01', 'price': 161.5},\n",
              " {'date': '1997-11-01', 'price': 161.7},\n",
              " {'date': '1997-12-01', 'price': 161.8}]"
            ]
          },
          "metadata": {},
          "execution_count": 38
        }
      ],
      "source": [
        "price_json[:5]"
      ]
    },
    {
      "cell_type": "markdown",
      "metadata": {
        "id": "oskPwwatAx1g"
      },
      "source": [
        "### Working with Data"
      ]
    },
    {
      "cell_type": "code",
      "execution_count": 39,
      "metadata": {
        "id": "th8Rk9JhAx1g"
      },
      "outputs": [],
      "source": [
        "import pandas as pd\n",
        "url = \"https://raw.githubusercontent.com/apis-jigsaw/cpi-functions-quiz/main/cpi_json.json\"\n",
        "price_dates = pd.read_json(url).to_dict('records')"
      ]
    },
    {
      "cell_type": "code",
      "execution_count": 40,
      "metadata": {
        "id": "zRZxvxWAAx1g",
        "outputId": "b1fa4cf5-b0e6-4add-907f-463bd7aaeae1",
        "colab": {
          "base_uri": "https://localhost:8080/"
        }
      },
      "outputs": [
        {
          "output_type": "execute_result",
          "data": {
            "text/plain": [
              "[{'date': Timestamp('1997-09-01 00:00:00'), 'price': 161.2},\n",
              " {'date': Timestamp('1997-10-01 00:00:00'), 'price': 161.5},\n",
              " {'date': Timestamp('1997-11-01 00:00:00'), 'price': 161.7}]"
            ]
          },
          "metadata": {},
          "execution_count": 40
        }
      ],
      "source": [
        "price_dates[:3]"
      ]
    },
    {
      "cell_type": "markdown",
      "metadata": {
        "id": "jpBArIofAx1h"
      },
      "source": [
        "* Filtering"
      ]
    },
    {
      "cell_type": "code",
      "execution_count": 41,
      "metadata": {
        "id": "rMsR3HxjAx1h"
      },
      "outputs": [],
      "source": [
        "def price_greater_than(price_dates, amount):\n",
        "    return [pd for pd in price_dates if pd['price']> 200]"
      ]
    },
    {
      "cell_type": "code",
      "execution_count": 42,
      "metadata": {
        "id": "2fjt-kbRAx1i",
        "outputId": "f42984de-2a9e-49fd-abde-206ab34cee9a",
        "colab": {
          "base_uri": "https://localhost:8080/"
        }
      },
      "outputs": [
        {
          "output_type": "execute_result",
          "data": {
            "text/plain": [
              "[{'date': Timestamp('2006-04-01 00:00:00'), 'price': 200.7},\n",
              " {'date': Timestamp('2006-05-01 00:00:00'), 'price': 201.3},\n",
              " {'date': Timestamp('2006-06-01 00:00:00'), 'price': 201.8}]"
            ]
          },
          "metadata": {},
          "execution_count": 42
        }
      ],
      "source": [
        "price_greater_than(price_dates, 200)[:3]\n",
        "\n",
        "# [{'date': Timestamp('2006-04-01 00:00:00'), 'price': 200.7},\n",
        "#  {'date': Timestamp('2006-05-01 00:00:00'), 'price': 201.3},\n",
        "#  {'date': Timestamp('2006-06-01 00:00:00'), 'price': 201.8}]"
      ]
    },
    {
      "cell_type": "markdown",
      "metadata": {
        "id": "rDIB9BMeAx1i"
      },
      "source": [
        "* Exploring Timestamps  "
      ]
    },
    {
      "cell_type": "markdown",
      "metadata": {
        "id": "yHdt5gtZAx1i"
      },
      "source": [
        "Now we can see that each date points to a timestamp object.  If we explore a timestamp, notice that we can extract certain attributes from it.\n",
        "\n",
        "> Let's start by pulling out the first date."
      ]
    },
    {
      "cell_type": "code",
      "execution_count": 43,
      "metadata": {
        "id": "iNiBODc0Ax1n",
        "outputId": "862d8db6-a104-46f9-c428-e2a45968f2bc",
        "colab": {
          "base_uri": "https://localhost:8080/"
        }
      },
      "outputs": [
        {
          "output_type": "execute_result",
          "data": {
            "text/plain": [
              "Timestamp('1997-09-01 00:00:00')"
            ]
          },
          "metadata": {},
          "execution_count": 43
        }
      ],
      "source": [
        "first_price_date = price_dates[0]\n",
        "\n",
        "first_price_date # {'date': Timestamp('1997-09-01 00:00:00'), 'price': 161.2}\n",
        "\n",
        "first_date = first_price_date['date']\n",
        "first_date"
      ]
    },
    {
      "cell_type": "code",
      "execution_count": 45,
      "metadata": {
        "id": "Qcl6WSpBAx1n",
        "outputId": "178d6cef-7f22-464b-dda3-e0cce3f6409f",
        "colab": {
          "base_uri": "https://localhost:8080/"
        }
      },
      "outputs": [
        {
          "output_type": "execute_result",
          "data": {
            "text/plain": [
              "1997"
            ]
          },
          "metadata": {},
          "execution_count": 45
        }
      ],
      "source": [
        "first_date.year"
      ]
    },
    {
      "cell_type": "markdown",
      "metadata": {
        "id": "EnSN2NZRAx1o"
      },
      "source": [
        "Then, write a function called `filter_price_by` that takes list of `price_dates` and given both a month and year, return the corresponding price."
      ]
    },
    {
      "cell_type": "code",
      "execution_count": 52,
      "metadata": {
        "id": "JutzcVOEAx1o"
      },
      "outputs": [],
      "source": [
        "def filter_price_by(price_dates, month, year):\n",
        "    return [pd['price'] for pd in price_dates if pd['date'].year == year and pd['date'].month == month][0]"
      ]
    },
    {
      "cell_type": "code",
      "execution_count": 53,
      "metadata": {
        "id": "7wb0AD7OAx1o",
        "outputId": "75033b60-00aa-4559-b09d-ee3cfc28264e",
        "colab": {
          "base_uri": "https://localhost:8080/"
        }
      },
      "outputs": [
        {
          "output_type": "execute_result",
          "data": {
            "text/plain": [
              "258.2"
            ]
          },
          "metadata": {},
          "execution_count": 53
        }
      ],
      "source": [
        "filter_price_by(price_dates, 3, 2020)\n",
        "\n",
        "# 258.2"
      ]
    },
    {
      "cell_type": "markdown",
      "metadata": {
        "id": "9N_XZJx2Ax1o"
      },
      "source": [
        "Then let's write a method that allows us to filter by both prices and years."
      ]
    },
    {
      "cell_type": "code",
      "execution_count": 74,
      "metadata": {
        "id": "SEhPRzb5Ax1o"
      },
      "outputs": [],
      "source": [
        "def filter_price_by(amount, year):\n",
        "    return [pd for pd in price_dates if pd['price']>= amount and pd['date'].year == year]    "
      ]
    },
    {
      "cell_type": "code",
      "execution_count": 79,
      "metadata": {
        "id": "H41NtgpDAx1p",
        "outputId": "c7e37096-d9a7-4992-d9ce-fff2f3235f17",
        "colab": {
          "base_uri": "https://localhost:8080/"
        }
      },
      "outputs": [
        {
          "output_type": "execute_result",
          "data": {
            "text/plain": [
              "[{'date': Timestamp('2022-01-01 00:00:00'), 'price': 281.9},\n",
              " {'date': Timestamp('2022-02-01 00:00:00'), 'price': 284.2},\n",
              " {'date': Timestamp('2022-03-01 00:00:00'), 'price': 287.7},\n",
              " {'date': Timestamp('2022-04-01 00:00:00'), 'price': 288.7},\n",
              " {'date': Timestamp('2022-05-01 00:00:00'), 'price': 291.5},\n",
              " {'date': Timestamp('2022-06-01 00:00:00'), 'price': 295.3},\n",
              " {'date': Timestamp('2022-07-01 00:00:00'), 'price': 295.3},\n",
              " {'date': Timestamp('2022-08-01 00:00:00'), 'price': 295.6}]"
            ]
          },
          "metadata": {},
          "execution_count": 79
        }
      ],
      "source": [
        "filter_price_by(290, 2022)\n",
        "\n",
        "# [{'date': Timestamp('2022-05-01 00:00:00'), 'price': 291.5},\n",
        "#  {'date': Timestamp('2022-06-01 00:00:00'), 'price': 295.3},\n",
        "#  {'date': Timestamp('2022-07-01 00:00:00'), 'price': 295.3},\n",
        "#  {'date': Timestamp('2022-08-01 00:00:00'), 'price': 295.6}]"
      ]
    },
    {
      "cell_type": "markdown",
      "metadata": {
        "id": "LEUeItHaAx1p"
      },
      "source": [
        "Now let's create a new list of dictionaries for each `price_date` has a key of `year`, a key of `month`, as well as the corresponding price."
      ]
    },
    {
      "cell_type": "code",
      "execution_count": 80,
      "metadata": {
        "id": "6vauIcpCAx1p",
        "outputId": "a32a3d9f-9c89-4d2a-c4d7-fbc1d6b34e5a",
        "colab": {
          "base_uri": "https://localhost:8080/"
        }
      },
      "outputs": [
        {
          "output_type": "execute_result",
          "data": {
            "text/plain": [
              "[{'month': 9, 'year': 1997, 'price': 161.2},\n",
              " {'month': 10, 'year': 1997, 'price': 161.5},\n",
              " {'month': 11, 'year': 1997, 'price': 161.7}]"
            ]
          },
          "metadata": {},
          "execution_count": 80
        }
      ],
      "source": [
        "expanded_price_dates = [{'month': pd['date'].month, 'year':pd['date'].year, 'price':pd['price']} for pd in price_dates]   \n",
        "\n",
        "expanded_price_dates[:3]\n",
        "\n",
        "# [{'month': 9, 'year': 1997, 'price': 161.2},\n",
        "#  {'month': 10, 'year': 1997, 'price': 161.5},\n",
        "#  {'month': 11, 'year': 1997, 'price': 161.7}]"
      ]
    }
  ],
  "metadata": {
    "kernelspec": {
      "display_name": "Python 3.8.9 64-bit",
      "language": "python",
      "name": "python3"
    },
    "language_info": {
      "codemirror_mode": {
        "name": "ipython",
        "version": 3
      },
      "file_extension": ".py",
      "mimetype": "text/x-python",
      "name": "python",
      "nbconvert_exporter": "python",
      "pygments_lexer": "ipython3",
      "version": "3.8.9"
    },
    "orig_nbformat": 4,
    "vscode": {
      "interpreter": {
        "hash": "31f2aee4e71d21fbe5cf8b01ff0e069b9275f58929596ceb00d14d90e3e16cd6"
      }
    },
    "colab": {
      "provenance": []
    }
  },
  "nbformat": 4,
  "nbformat_minor": 0
}